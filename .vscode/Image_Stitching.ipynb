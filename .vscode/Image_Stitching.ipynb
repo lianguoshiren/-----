{
 "cells": [
  {
   "cell_type": "code",
   "execution_count": 11,
   "metadata": {},
   "outputs": [
    {
     "name": "stdout",
     "output_type": "stream",
     "text": [
      "(637, 1736, 3)\n"
     ]
    }
   ],
   "source": [
    "import cv2\n",
    "import numpy as np\n",
    "import sys\n",
    "from PIL import Image\n",
    "\n",
    "\n",
    "def show(name,img):\n",
    "    cv2.imshow(name, img)\n",
    "    cv2.waitKey(0)\n",
    "    cv2.destroyAllWindows()\n",
    "    \n",
    "#读入照片\n",
    "image1 = cv2.imread(\"../P2.jpg\")\n",
    "image2 = cv2.imread(\"../P1.jpg\")\n",
    "A = image1.copy()\n",
    "B = image2.copy()\n",
    "imageA = cv2.resize(A,(0,0),fx=0.5,fy=0.5)\n",
    "imageB = cv2.resize(B,(0,0),fx=0.5,fy=0.5)\n",
    "\n",
    "#show(\" \",imageA)\n",
    "#检测图片的SIFT关键特征点，计算特征描述子\n",
    "def detect_describe(imag):\n",
    "    sift = cv2.SIFT_create()\n",
    "    (kps,features) = sift.detectAndCompute(imag,None)\n",
    "    kps = np.float32([kp.pt for kp in kps])\n",
    "    #返回特征点集及其对应的特征描述\n",
    "    return (kps,features)\n",
    "\n",
    "kpsA,featuresA = detect_describe(imageA)\n",
    "kpsB,featuresB = detect_describe(imageB)\n",
    "\n",
    "#建立匹配器\n",
    "bf = cv2.BFMatcher()\n",
    "matches = bf.knnMatch(featuresA,featuresB,2)\n",
    "\n",
    "good = [] #存放匹配上的特征点对\n",
    "for m in matches:\n",
    "    #满足条件，保留匹配对\n",
    "    if len(m)==2 and m[0].distance < m[1].distance *0.75:\n",
    "        good.append((m[0].trainIdx,m[1].queryIdx))\n",
    "\n",
    "\n",
    "# 筛选后的匹配对数量大于4时，计算视角变换矩阵\n",
    "if len(good) > 4:\n",
    "    pA = np.float32([kpsA[j] for (i,j) in good])\n",
    "    pB = np.float32([kpsB[i] for (i,j) in good])\n",
    "    #计算视角变换矩阵\n",
    "    H,status = cv2.findHomography(pA,pB,cv2.RANSAC,4.0)\n",
    "\n",
    "M = (matches,H,status)\n",
    "\n",
    "if M is None:\n",
    "    print(\"无匹配结果\")\n",
    "    sys.exit()\n",
    "\n",
    "(matches, H, status) = M\n",
    "result = cv2.warpPerspective(imageA,H,(imageA.shape[1]+imageB.shape[1],imageA.shape[0]))\n",
    "#show('res',result)\n",
    "result[0:imageB.shape[0],0:imageB.shape[1]] = imageB\n",
    "# result[0:imageB.shape[0], 0:imageB.shape[1]] = imageB[:imageB.shape[0], :imageB.shape[1]]\n",
    "show('res',result)\n",
    "print(result.shape)"
   ]
  }
 ],
 "metadata": {
  "kernelspec": {
   "display_name": "vical",
   "language": "python",
   "name": "python3"
  },
  "language_info": {
   "codemirror_mode": {
    "name": "ipython",
    "version": 3
   },
   "file_extension": ".py",
   "mimetype": "text/x-python",
   "name": "python",
   "nbconvert_exporter": "python",
   "pygments_lexer": "ipython3",
   "version": "3.9.18"
  }
 },
 "nbformat": 4,
 "nbformat_minor": 2
}
